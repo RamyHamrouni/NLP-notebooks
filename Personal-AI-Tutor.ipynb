{
  "nbformat": 4,
  "nbformat_minor": 0,
  "metadata": {
    "colab": {
      "provenance": [],
      "gpuType": "T4",
      "authorship_tag": "ABX9TyOTnX/AQykmrKe5zd/3Vb7+",
      "include_colab_link": true
    },
    "kernelspec": {
      "name": "python3",
      "display_name": "Python 3"
    },
    "language_info": {
      "name": "python"
    },
    "accelerator": "GPU"
  },
  "cells": [
    {
      "cell_type": "markdown",
      "metadata": {
        "id": "view-in-github",
        "colab_type": "text"
      },
      "source": [
        "<a href=\"https://colab.research.google.com/github/RamyHamrouni/NLP-notebooks/blob/main/Personal-AI-Tutor.ipynb\" target=\"_parent\"><img src=\"https://colab.research.google.com/assets/colab-badge.svg\" alt=\"Open In Colab\"/></a>"
      ]
    },
    {
      "cell_type": "code",
      "execution_count": 1,
      "metadata": {
        "id": "gE384uH0Znyr"
      },
      "outputs": [],
      "source": [
        "from pydantic import BaseModel, Field\n",
        "from typing_extensions import TypedDict, Literal, Annotated"
      ]
    },
    {
      "cell_type": "code",
      "source": [
        "%pip install langchain_openai"
      ],
      "metadata": {
        "colab": {
          "base_uri": "https://localhost:8080/"
        },
        "id": "qaw4rwDZdLDP",
        "outputId": "c6071658-9c28-4736-e314-0489612c4a26"
      },
      "execution_count": 2,
      "outputs": [
        {
          "output_type": "stream",
          "name": "stdout",
          "text": [
            "Collecting langchain_openai\n",
            "  Downloading langchain_openai-0.3.33-py3-none-any.whl.metadata (2.4 kB)\n",
            "Requirement already satisfied: langchain-core<1.0.0,>=0.3.76 in /usr/local/lib/python3.12/dist-packages (from langchain_openai) (0.3.76)\n",
            "Requirement already satisfied: openai<2.0.0,>=1.104.2 in /usr/local/lib/python3.12/dist-packages (from langchain_openai) (1.108.0)\n",
            "Requirement already satisfied: tiktoken<1,>=0.7 in /usr/local/lib/python3.12/dist-packages (from langchain_openai) (0.11.0)\n",
            "Requirement already satisfied: langsmith>=0.3.45 in /usr/local/lib/python3.12/dist-packages (from langchain-core<1.0.0,>=0.3.76->langchain_openai) (0.4.28)\n",
            "Requirement already satisfied: tenacity!=8.4.0,<10.0.0,>=8.1.0 in /usr/local/lib/python3.12/dist-packages (from langchain-core<1.0.0,>=0.3.76->langchain_openai) (8.5.0)\n",
            "Requirement already satisfied: jsonpatch<2.0,>=1.33 in /usr/local/lib/python3.12/dist-packages (from langchain-core<1.0.0,>=0.3.76->langchain_openai) (1.33)\n",
            "Requirement already satisfied: PyYAML>=5.3 in /usr/local/lib/python3.12/dist-packages (from langchain-core<1.0.0,>=0.3.76->langchain_openai) (6.0.2)\n",
            "Requirement already satisfied: typing-extensions>=4.7 in /usr/local/lib/python3.12/dist-packages (from langchain-core<1.0.0,>=0.3.76->langchain_openai) (4.15.0)\n",
            "Requirement already satisfied: packaging>=23.2 in /usr/local/lib/python3.12/dist-packages (from langchain-core<1.0.0,>=0.3.76->langchain_openai) (25.0)\n",
            "Requirement already satisfied: pydantic>=2.7.4 in /usr/local/lib/python3.12/dist-packages (from langchain-core<1.0.0,>=0.3.76->langchain_openai) (2.11.9)\n",
            "Requirement already satisfied: anyio<5,>=3.5.0 in /usr/local/lib/python3.12/dist-packages (from openai<2.0.0,>=1.104.2->langchain_openai) (4.10.0)\n",
            "Requirement already satisfied: distro<2,>=1.7.0 in /usr/local/lib/python3.12/dist-packages (from openai<2.0.0,>=1.104.2->langchain_openai) (1.9.0)\n",
            "Requirement already satisfied: httpx<1,>=0.23.0 in /usr/local/lib/python3.12/dist-packages (from openai<2.0.0,>=1.104.2->langchain_openai) (0.28.1)\n",
            "Requirement already satisfied: jiter<1,>=0.4.0 in /usr/local/lib/python3.12/dist-packages (from openai<2.0.0,>=1.104.2->langchain_openai) (0.11.0)\n",
            "Requirement already satisfied: sniffio in /usr/local/lib/python3.12/dist-packages (from openai<2.0.0,>=1.104.2->langchain_openai) (1.3.1)\n",
            "Requirement already satisfied: tqdm>4 in /usr/local/lib/python3.12/dist-packages (from openai<2.0.0,>=1.104.2->langchain_openai) (4.67.1)\n",
            "Requirement already satisfied: regex>=2022.1.18 in /usr/local/lib/python3.12/dist-packages (from tiktoken<1,>=0.7->langchain_openai) (2024.11.6)\n",
            "Requirement already satisfied: requests>=2.26.0 in /usr/local/lib/python3.12/dist-packages (from tiktoken<1,>=0.7->langchain_openai) (2.32.4)\n",
            "Requirement already satisfied: idna>=2.8 in /usr/local/lib/python3.12/dist-packages (from anyio<5,>=3.5.0->openai<2.0.0,>=1.104.2->langchain_openai) (3.10)\n",
            "Requirement already satisfied: certifi in /usr/local/lib/python3.12/dist-packages (from httpx<1,>=0.23.0->openai<2.0.0,>=1.104.2->langchain_openai) (2025.8.3)\n",
            "Requirement already satisfied: httpcore==1.* in /usr/local/lib/python3.12/dist-packages (from httpx<1,>=0.23.0->openai<2.0.0,>=1.104.2->langchain_openai) (1.0.9)\n",
            "Requirement already satisfied: h11>=0.16 in /usr/local/lib/python3.12/dist-packages (from httpcore==1.*->httpx<1,>=0.23.0->openai<2.0.0,>=1.104.2->langchain_openai) (0.16.0)\n",
            "Requirement already satisfied: jsonpointer>=1.9 in /usr/local/lib/python3.12/dist-packages (from jsonpatch<2.0,>=1.33->langchain-core<1.0.0,>=0.3.76->langchain_openai) (3.0.0)\n",
            "Requirement already satisfied: orjson>=3.9.14 in /usr/local/lib/python3.12/dist-packages (from langsmith>=0.3.45->langchain-core<1.0.0,>=0.3.76->langchain_openai) (3.11.3)\n",
            "Requirement already satisfied: requests-toolbelt>=1.0.0 in /usr/local/lib/python3.12/dist-packages (from langsmith>=0.3.45->langchain-core<1.0.0,>=0.3.76->langchain_openai) (1.0.0)\n",
            "Requirement already satisfied: zstandard>=0.23.0 in /usr/local/lib/python3.12/dist-packages (from langsmith>=0.3.45->langchain-core<1.0.0,>=0.3.76->langchain_openai) (0.25.0)\n",
            "Requirement already satisfied: annotated-types>=0.6.0 in /usr/local/lib/python3.12/dist-packages (from pydantic>=2.7.4->langchain-core<1.0.0,>=0.3.76->langchain_openai) (0.7.0)\n",
            "Requirement already satisfied: pydantic-core==2.33.2 in /usr/local/lib/python3.12/dist-packages (from pydantic>=2.7.4->langchain-core<1.0.0,>=0.3.76->langchain_openai) (2.33.2)\n",
            "Requirement already satisfied: typing-inspection>=0.4.0 in /usr/local/lib/python3.12/dist-packages (from pydantic>=2.7.4->langchain-core<1.0.0,>=0.3.76->langchain_openai) (0.4.1)\n",
            "Requirement already satisfied: charset_normalizer<4,>=2 in /usr/local/lib/python3.12/dist-packages (from requests>=2.26.0->tiktoken<1,>=0.7->langchain_openai) (3.4.3)\n",
            "Requirement already satisfied: urllib3<3,>=1.21.1 in /usr/local/lib/python3.12/dist-packages (from requests>=2.26.0->tiktoken<1,>=0.7->langchain_openai) (2.5.0)\n",
            "Downloading langchain_openai-0.3.33-py3-none-any.whl (74 kB)\n",
            "\u001b[2K   \u001b[90m━━━━━━━━━━━━━━━━━━━━━━━━━━━━━━━━━━━━━━━━\u001b[0m \u001b[32m75.0/75.0 kB\u001b[0m \u001b[31m7.3 MB/s\u001b[0m eta \u001b[36m0:00:00\u001b[0m\n",
            "\u001b[?25hInstalling collected packages: langchain_openai\n",
            "Successfully installed langchain_openai-0.3.33\n"
          ]
        }
      ]
    },
    {
      "cell_type": "code",
      "source": [
        "pip install tavily-python"
      ],
      "metadata": {
        "colab": {
          "base_uri": "https://localhost:8080/"
        },
        "id": "mT3KAg91hmTg",
        "outputId": "bfcfb223-0d3d-468f-a0c0-57f08c63cba6"
      },
      "execution_count": 21,
      "outputs": [
        {
          "output_type": "stream",
          "name": "stdout",
          "text": [
            "Collecting tavily-python\n",
            "  Downloading tavily_python-0.7.12-py3-none-any.whl.metadata (7.5 kB)\n",
            "Requirement already satisfied: requests in /usr/local/lib/python3.12/dist-packages (from tavily-python) (2.32.4)\n",
            "Requirement already satisfied: tiktoken>=0.5.1 in /usr/local/lib/python3.12/dist-packages (from tavily-python) (0.11.0)\n",
            "Requirement already satisfied: httpx in /usr/local/lib/python3.12/dist-packages (from tavily-python) (0.28.1)\n",
            "Requirement already satisfied: regex>=2022.1.18 in /usr/local/lib/python3.12/dist-packages (from tiktoken>=0.5.1->tavily-python) (2024.11.6)\n",
            "Requirement already satisfied: charset_normalizer<4,>=2 in /usr/local/lib/python3.12/dist-packages (from requests->tavily-python) (3.4.3)\n",
            "Requirement already satisfied: idna<4,>=2.5 in /usr/local/lib/python3.12/dist-packages (from requests->tavily-python) (3.10)\n",
            "Requirement already satisfied: urllib3<3,>=1.21.1 in /usr/local/lib/python3.12/dist-packages (from requests->tavily-python) (2.5.0)\n",
            "Requirement already satisfied: certifi>=2017.4.17 in /usr/local/lib/python3.12/dist-packages (from requests->tavily-python) (2025.8.3)\n",
            "Requirement already satisfied: anyio in /usr/local/lib/python3.12/dist-packages (from httpx->tavily-python) (4.10.0)\n",
            "Requirement already satisfied: httpcore==1.* in /usr/local/lib/python3.12/dist-packages (from httpx->tavily-python) (1.0.9)\n",
            "Requirement already satisfied: h11>=0.16 in /usr/local/lib/python3.12/dist-packages (from httpcore==1.*->httpx->tavily-python) (0.16.0)\n",
            "Requirement already satisfied: sniffio>=1.1 in /usr/local/lib/python3.12/dist-packages (from anyio->httpx->tavily-python) (1.3.1)\n",
            "Requirement already satisfied: typing_extensions>=4.5 in /usr/local/lib/python3.12/dist-packages (from anyio->httpx->tavily-python) (4.15.0)\n",
            "Downloading tavily_python-0.7.12-py3-none-any.whl (15 kB)\n",
            "Installing collected packages: tavily-python\n",
            "Successfully installed tavily-python-0.7.12\n"
          ]
        }
      ]
    },
    {
      "cell_type": "code",
      "source": [
        "from langchain_openai import ChatOpenAI\n",
        "from langchain_core.prompts import PromptTemplate\n",
        "from langchain.chains import LLMChain\n",
        "from os import getenv\n",
        "from dotenv import load_dotenv\n",
        "\n",
        "load_dotenv()\n",
        "\n",
        "template = \"\"\"Question: {question}\n",
        "Answer: Let's think step by step.\"\"\"\n",
        "\n",
        "prompt = PromptTemplate(template=template, input_variables=[\"question\"])\n",
        "\n",
        "llm = ChatOpenAI(\n",
        "  api_key=\"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\",\n",
        "  base_url=\"https://openrouter.ai/api/v1\",\n",
        "  model=\"gpt-oss-120b\",\n",
        ")\n",
        "\n",
        "llm_chain = LLMChain(prompt=prompt, llm=llm)\n",
        "\n",
        "question = \"Explain python variables?\"\n",
        "\n",
        "print(llm_chain.run(question))"
      ],
      "metadata": {
        "colab": {
          "base_uri": "https://localhost:8080/"
        },
        "collapsed": true,
        "id": "5aOrm8zEaYMF",
        "outputId": "f99984c4-7f3e-4451-ca5b-46035dc9cc51"
      },
      "execution_count": 18,
      "outputs": [
        {
          "output_type": "stream",
          "name": "stdout",
          "text": [
            "**Python Variables – A Step‑by‑Step Overview**\n",
            "\n",
            "---\n",
            "\n",
            "### 1. What Is a Variable?\n",
            "A *variable* is simply a name that refers to a value stored in memory. In Python you don’t have to declare the type of a variable beforehand – you just assign a value to a name, and Python figures out the type automatically.\n",
            "\n",
            "```python\n",
            "x = 10          # x now refers to an integer object 10\n",
            "name = \"Alice\"  # name refers to a string object \"Alice\"\n",
            "```\n",
            "\n",
            "---\n",
            "\n",
            "### 2. How Assignment Works\n",
            "The assignment operator `=` binds a name to an object:\n",
            "\n",
            "1. **Right‑hand side** (`10`, `\"Alice\"`, `my_func()`) is evaluated first, creating (or re‑using) an object.\n",
            "2. **Left‑hand side** (`x`, `name`) is a *reference* that is then bound to that object.\n",
            "\n",
            "Multiple names can point to the same object:\n",
            "\n",
            "```python\n",
            "a = b = [, 2, 3]   # a and b reference the *same* list object\n",
            "```\n",
            "\n",
            "---\n",
            "\n",
            "### 3. Dynamic (Duck) Typing\n",
            "Python variables are *dynamically typed*: the same name can later refer to a completely different type.\n",
            "\n",
            "```python\n",
            "value = 42          # integer\n",
            "value = \"forty‑two\" # now a string\n",
            "```\n",
            "\n",
            "Because of this flexibility, the interpreter determines the operations that are legal for the *current* object, not for the variable name.\n",
            "\n",
            "---\n",
            "\n",
            "### 4. Naming Rules & Conventions\n",
            " Rule | Description |\n",
            "|------|-------------|\n",
            "| **Start** | Must begin with a letter (`A‑Z`/`a‑z`) or underscore `_`. |\n",
            "| **Characters** | After the first character you may use letters, digits (`0‑9`), or underscores. |\n",
            "| **Case Sensitive** | `myVar` and `myvar` are distinct. |\n",
            "| **Keywords** | Cannot use reserved words like `def`, `class`, `if`, `True`, etc. |\n",
            "| **PEP 8 style** | Use `snake_case` for variables, `UPPER_SNAKE_CASE` for constants. |\n",
            "\n",
            "```python\n",
            "valid_name = 5\n",
            "_valid = True\n",
            "name2 = \"ok\"\n",
            "# invalid: 2name = 7   # SyntaxError\n",
            "```\n",
            "\n",
            "---\n",
            "\n",
            "### 5. Scope – Where a Variable Is Visible\n",
            "1. **Local Scope** – Inside a function or a comprehension. Created when the block is entered and destroyed when it exits.\n",
            "2. **Enclosing (non‑local) Scope** – For nested functions, the outer function’s locals.\n",
            "3. **Global Scope** – At the top level of a module (`module.py`).\n",
            "4. **Built‑in Scope** – Names provided by Python itself (`len`, `range`, etc.).\n",
            "\n",
            "The *LEGB* rule (Local → Enclosing → Global → Built‑in) determines which binding is used when a name is referenced.\n",
            "\n",
            "```python\n",
            "x = \"global\"\n",
            "\n",
            "def outer():\n",
            "    x = \"enclosing\"\n",
            "    def inner():\n",
            "        print(x)   # looks up: local → enclosing → global → built‑in\n",
            "    inner()\n",
            "\n",
            "outer()   # prints \"enclosing\"\n",
            "```\n",
            "\n",
            "---\n",
            "\n",
            "### 6. Mutability – Does Changing a Variable Change the Object?\n",
            "- **Immutable objects** – `int`, `float`, `bool`, `str`, `tuple`, `frozenset`. You cannot alter the object itself; any “change” creates a new object.\n",
            "  \n",
            "  ```python\n",
            "  s = \"hello\"\n",
            "  s = s.upper()   # creates a new string; original \"hello\" remains unchanged\n",
            "  ```\n",
            "\n",
            "- **Mutable objects** –list`, `dict`, `set`, most custom classes. You can modify the object in place; all references see the change.\n",
            "\n",
            "  ```python\n",
            "  lst = [1, 2, 3]\n",
            "  other = lst\n",
            "  lst.append(4)\n",
            "  print(other)  # [1, 2, 3, 4] – both names refer to the same list\n",
            "  ```\n",
            "\n",
            "Understanding mutability is crucial when you reassign a variable that refers to a mutable object.\n",
            "\n",
            "---\n",
            "\n",
            "### 7. Deleting a Variable\n",
            "Use `del` to remove a name from the current namespace. The underlying object is freed only when no other references exist.\n",
            "\n",
            "```python\n",
            "temp = 5\n",
            "del temp          # temp is no longer defined\n",
            "# print(temp)     # NameError\n",
            "```\n",
            "\n",
            "---\n",
            "\n",
            "### 8. Type Hints (Optional but Helpful)\n",
            "Python 3.5+ allows you to annotate variables with expected types. This does **not** enforce the type at runtime but helps static analysis tools and IDEs.\n",
            "\n",
            "```python\n",
            "age: int = 30\n",
            "username: str = \"bob\"\n",
            "scores: list[int] = [85, 92, 78]\n",
            "```\n",
            "\n",
            "---\n",
            "\n",
            "### 9. Common Pitfalls & Tips\n",
            "\n",
            "| Pitfall | Explanation | Fix |\n",
            "|---------|-------------|-----|\n",
            "| **Using mutable defaults** | `def f(arg=[]):` reuses the same list across calls. | Use `None` and create a new list inside the function. |\n",
            "| **Shadowing built‑ins** | Naming a variable `list` hides the built‑in `list` type. | Choose a different name (`my_list`). |\n",
            "| **Unintended global modification** | Assigning to a variable inside a function creates a local copy unless declared `global`. | Use `global var_name` (or better, pass the value as a parameter). |\n",
            "| **Confusing `=` with `==`** | `=` assigns, `==` tests equality. | Keep the distinction clear; IDE linting helps. |\n",
            "\n",
            "---\n",
            "\n",
            "### 10. Quick Recap\n",
            "\n",
            "| Concept | Key Point |\n",
            "|---------|-----------|\n",
            "| **Definition** | Name bound to an object via `=` |\n",
            "| **Typing** | Dynamically typed; type is attached to the *object*, not the name |\n",
            "| **Naming** | Must start with letter/underscore; follow PEP 8 (`snake_case`) |\n",
            "| **Scope** | Determined by LEGB rule |\n",
            "| **Mutability** | Immutable → new object on change; Mutable → in‑place modification |\n",
            "| **Deletion** | `del name` removes the binding |\n",
            "| **Hints** | Optional `var: Type = value` for readability and checks |\n",
            "\n",
            "Understanding these fundamentals will let you work comfortably with data, functions, and larger programs in Python. Happy coding!\n"
          ]
        }
      ]
    },
    {
      "cell_type": "code",
      "source": [
        "from tavily import TavilyClient\n",
        "tavily_client = TavilyClient(api_key=\"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\")\n",
        "response = tavily_client.search(\"Python variavbles\")\n",
        "print(response)"
      ],
      "metadata": {
        "colab": {
          "base_uri": "https://localhost:8080/"
        },
        "id": "OjAfLRC0dA5G",
        "outputId": "0a7fa4f7-83ee-4440-b540-d56b717ec781"
      },
      "execution_count": 22,
      "outputs": [
        {
          "output_type": "stream",
          "name": "stdout",
          "text": [
            "{'query': 'Python variavbles', 'follow_up_questions': None, 'answer': None, 'images': [], 'results': [{'url': 'https://www.w3schools.com/python/python_variables.asp', 'title': 'Python Variables - W3Schools', 'content': 'Variables are containers for storing data values. Creating Variables Python has no command for declaring a variable. A variable is created the moment you first', 'score': 0.81770587, 'raw_content': None}, {'url': 'https://www.geeksforgeeks.org/python/python-variables/', 'title': 'Python Variables - GeeksforGeeks', 'content': '# Python Variables Python Python Python Variables in Python are assigned values using the `=` operator. Python Python variables are dynamically typed, meaning the same variable can hold different types of values during execution. Python Python Python 1 2.5 Python Python In Python, we can determine the type of a variable using the type() function. Python Python Python Python * Assign function to a Variable in Python Variables in Python * Python * python Python keywords cannot be used as the names of variables, functions, and classes or any other identifier. Since everything is an object in Python programming, Python data types are classes and variables are instances (objects) of thes Python Module is a file that contains built-in functions, classes,its and variables.', 'score': 0.8145405, 'raw_content': None}, {'url': 'https://realpython.com/python-variables/', 'title': 'Variables in Python: Usage and Best Practices', 'content': \"In Python, variables are symbolic names that refer to objects or values stored in your computer’s memory. * **Variables** in Python are **symbolic names pointing to objects** or values in memory. Variables are symbolic names that refer to objects or values stored in your computer's memory, and they're essential building blocks for any Python program. In Python, variables) are names associated with concrete objects or values stored in your computer’s memory. Python will infer a variable’s type from the assigned object. Variables are symbolic names that refer to objects or values stored in your computer's memory, and they're essential building blocks for any Python program. In Python, variables are symbolic names for objects or values stored in memory.\", 'score': 0.81133276, 'raw_content': None}, {'url': 'https://www.futurelearn.com/info/courses/introduction-to-programming-with-python-fourth-rev-/0/steps/264867', 'title': 'Python Variables - FutureLearn', 'content': 'Python variables are simply containers for storing data values. Python variables are simply containers for storing data values. A Python variable may be assigned a value of one type and then later re-assigned a value of a different type. FutureLearn online course, FutureLearn online course, Let’s explore some detailed examples of the different data types you can find in Python. ## Strings Python strings are immutable; that is, you cannot modify a string without creating a new string variable, or assigning a completely new string value to the variable. Once you assign string values to the new variables, you can join them. Objects of this data type may have one of two values: True or False. This content is taken from FutureLearn online course', 'score': 0.8055255, 'raw_content': None}, {'url': 'https://www.freecodecamp.org/news/python-variables/', 'title': \"Python Variables – The Complete Beginner's Guide - freeCodeCamp\", 'content': 'What is a Variable in Python? In Python, variables are created the moment you give or **assign** a value to them. In this example, we\\'ve created two variables: `country` and `year_founded.` We\\'ve assigned the string value \"United States\" to the `country` variable and integer value 1776 to the `year_founded` variable. How Should I Name My Python Variables? What Data Types Can Python Variables Hold? Python variables can hold various data types, including integers, floats, strings, booleans, tuples and lists: Variables can be used in various operations, which allows us to transform them mathematically (if they are numbers), change their string values through operations like concatenation, and compare values using equality operators. In Python, there are two main types of variable scope:', 'score': 0.79901963, 'raw_content': None}], 'response_time': 1.1, 'request_id': 'c6546433-c541-4cb2-b889-ea5e9acefa3a'}\n"
          ]
        }
      ]
    },
    {
      "cell_type": "code",
      "source": [],
      "metadata": {
        "id": "uL1nhUhxh_pX"
      },
      "execution_count": null,
      "outputs": []
    }
  ]
}